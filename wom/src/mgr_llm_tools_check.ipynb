{
 "cells": [
  {
   "cell_type": "code",
   "execution_count": 1,
   "id": "41220fd7-30fb-4aba-9343-0c839fd75e27",
   "metadata": {},
   "outputs": [
    {
     "name": "stderr",
     "output_type": "stream",
     "text": [
      "/opt/conda/lib/python3.10/site-packages/pydantic/_internal/_config.py:341: UserWarning: Valid config keys have changed in V2:\n",
      "* 'allow_population_by_field_name' has been renamed to 'populate_by_name'\n",
      "* 'smart_union' has been removed\n",
      "  warnings.warn(message, UserWarning)\n"
     ]
    }
   ],
   "source": [
    "import os\n",
    "import re\n",
    "import yaml\n",
    "import json\n",
    "import ast\n",
    "import praw\n",
    "from crewai import Agent, Task, Crew, Process\n",
    "from langchain_openai import ChatOpenAI\n",
    "\n",
    "from textwrap import dedent\n",
    "from reddit_helper import *    \n",
    "\n",
    "from langchain.llms import OpenAI, Ollama\n",
    "from langchain_openai import ChatOpenAI\n",
    "\n",
    "from pydantic import BaseModel"
   ]
  },
  {
   "cell_type": "code",
   "execution_count": 2,
   "id": "90c4f07a-7d2b-468f-b1cf-387cf8917d36",
   "metadata": {},
   "outputs": [],
   "source": [
    "api_file_path = 'api_keys.json'\n",
    "with open(api_file_path, 'r') as file:\n",
    "    api_keys = json.load(file)        \n",
    "openai_gpt35 = ChatOpenAI(model_name=\"gpt-3.5-turbo\", \n",
    "                                temperature=0.7,\n",
    "                                openai_api_key=api_keys['openai'])\n",
    "openai_gpt4 = ChatOpenAI(model_name=\"gpt-4\", \n",
    "                                temperature=0.7,\n",
    "                                openai_api_key=api_keys['openai'])        \n",
    "llama31_8b = Ollama(model='llama3.1:8b',)\n",
    "gemma2_9b = Ollama(model='gemma2:9b',)"
   ]
  },
  {
   "cell_type": "code",
   "execution_count": 48,
   "id": "ae8feb0c-dd0f-4e74-b926-bfefcb3aebcd",
   "metadata": {},
   "outputs": [],
   "source": [
    "cfg_file_path = 'casaai_config.yaml'\n",
    "with open(cfg_file_path, 'r') as yaml_file:\n",
    "    cfg = yaml.safe_load(yaml_file)\n",
    "product_long = cfg.get('product_long_description', '')      \n",
    "product_short = cfg.get('product_short_description', '')\n",
    "domain = cfg.get('domain')\n",
    "output_format_1 = cfg.get('output_format_1')"
   ]
  },
  {
   "cell_type": "code",
   "execution_count": 49,
   "id": "291978b9-9363-4aa5-94e3-2882edb74e83",
   "metadata": {},
   "outputs": [
    {
     "name": "stdout",
     "output_type": "stream",
     "text": [
      "^^comment_id^^decision^^justification\n"
     ]
    }
   ],
   "source": [
    "print(output_format_1)"
   ]
  },
  {
   "cell_type": "code",
   "execution_count": 4,
   "id": "fe2fe8f2-c241-411d-b1d9-e1d3f9e5d7ec",
   "metadata": {},
   "outputs": [],
   "source": [
    "def re_string(input_string):\n",
    "\n",
    "    pattern = r\"'comment_id':\\s*'([^']*)',\\s*'rank':\\s*(\\d+)\"\n",
    "\n",
    "    # Use re.findall to extract the values\n",
    "    matches = re.findall(pattern, input_string)\n",
    "\n",
    "    if matches:\n",
    "        comment_id, rank = matches[0]\n",
    "    else:\n",
    "        comment_id = \"na\"\n",
    "        rank = 0\n",
    "\n",
    "    justification = input_string.split(\"justification\")[-1]\n",
    "    \n",
    "    return comment_id, rank, justification"
   ]
  },
  {
   "cell_type": "code",
   "execution_count": 40,
   "id": "cfb8901b-116f-4751-b5f0-b4cb43bea515",
   "metadata": {},
   "outputs": [],
   "source": [
    "backstory = \"You are a content analyst with expertise in analyzing web content and \\\n",
    "             extracting relevant information. \\\n",
    "             - You should analyze the comment and see if it is relevant to {domain} \\\n",
    "             - You should identify whether comment is a question or seeking suggestion/opinion/guidance or \\\n",
    "               asking for advise that comes under scope of {product_short}. \\\n",
    "            \"\n",
    "goal = \"Analyze the content and identify whether it is relevant or not\"\n",
    "content_analysis_agent = Agent(\n",
    "                            role=\"Content Analyst\",\n",
    "                            goal=goal,\n",
    "                            backstory=backstory,\n",
    "                            allow_delegation=False,\n",
    "                            verbose=False,\n",
    "                            llm=gemma2_9b,\n",
    "                            )"
   ]
  },
  {
   "cell_type": "code",
   "execution_count": 41,
   "id": "affe0ea5-4b89-4577-968a-87ce473a5622",
   "metadata": {},
   "outputs": [],
   "source": [
    "class DecisionOutput(BaseModel):\n",
    "    comment_id: str\n",
    "    decision: str\n",
    "    justification: str"
   ]
  },
  {
   "cell_type": "code",
   "execution_count": 42,
   "id": "5cc49d85-481d-4630-8d55-1cd822f0f1ed",
   "metadata": {},
   "outputs": [],
   "source": [
    "tip_text = \"If you do your BEST WORK, I'll give you a $100 commission!\""
   ]
  },
  {
   "cell_type": "code",
   "execution_count": 58,
   "id": "a1109b21-759b-4171-9329-9d7326a2a109",
   "metadata": {},
   "outputs": [],
   "source": [
    "descr = '''{comment_id} is the id of the comment that you need to provide decision and justification. You will get the data in {input_data}.\n",
    "          You should: \n",
    "            - Analyze this and determine relevance of {comment_id} with respect to {domain} \n",
    "            - You should check whether comment is seeking information/guidance/advise or sharing an opinion or asking a question that \n",
    "             comes under the scope of {product_short}. Such comments should be identified as relevant.\n",
    "              Example : \"In some situations, i agree with you. Emptiness is better than extra things in the room.\"\n",
    "              But i think in this case, it would be better to have something on the wall.\n",
    "            - Bot messages that has URLs are irrelevant\n",
    "              Example : \"Looks like the Crate and Barrel Cortez Natural Floating Dresser.\n",
    "              https://www.crateandbarrel.com/cortez-natural-floating-dresser/s501378\"\n",
    "            - Short messages that are not questions or requests or opinions(less than 15 words) are irrelevant\n",
    "            - Merely expressing positive sentiment, interest or appreciations alone without any follow-up questions or requests are irrelevant\n",
    "              Example : \"THATS WILD!!!!!\"\n",
    "              Example : \"Pairing the electric blue and maroon together is an absolute power move, and you have my respect.\"\n",
    "              Example : \"Nice tannoys! I've wish they were more available in the states.\"\n",
    "              Example : \"Your style is DELICIOUS!!!!!!!!\"\n",
    "            - Mere statements without any follow-up questions or requests are irrelevant\n",
    "              Example-1 : \"The overhead/pendulum lighting looks perfect.\"\n",
    "              Example-2 : \"this is the dream\"\n",
    "            - Offensive messages or messages with foul language are irrelevant\n",
    "            - If relevant populate 'relevant' against 'decision' key of json output, else pass 'discard'. \\\n",
    "              {tip_text}\n",
    "         '''\n",
    "\n",
    "expected_out = \"comment id, decision and a brief justification (less than 15 words) \\\n",
    "                explaining the rationale behind the decision\" \n",
    "        \n",
    "content_analysis_task = Task(\n",
    "                            description=descr,\n",
    "                            expected_output=expected_out,\n",
    "                            output_json=DecisionOutput,\n",
    "                            agent=content_analysis_agent,\n",
    "                            )"
   ]
  },
  {
   "cell_type": "code",
   "execution_count": 59,
   "id": "ddfa1db5-dcd0-4de7-9d47-19b9a1d06ae4",
   "metadata": {},
   "outputs": [
    {
     "name": "stderr",
     "output_type": "stream",
     "text": [
      "2024-08-21 14:19:20,847 - 140666646742848 - __init__.py-__init__:531 - WARNING: Overriding of current TracerProvider is not allowed\n"
     ]
    }
   ],
   "source": [
    "response_creation_crew = Crew(\n",
    "    agents=[content_analysis_agent,],\n",
    "    tasks=[content_analysis_task,],\n",
    "    verbose=False,\n",
    ")"
   ]
  },
  {
   "cell_type": "code",
   "execution_count": 12,
   "id": "354f401e-8949-4f13-b217-0ba25d573984",
   "metadata": {},
   "outputs": [
    {
     "name": "stdout",
     "output_type": "stream",
     "text": [
      "post_cnt: 0 + 10 = 10\n",
      "comm_cnt: 0 + 560 = 560\n",
      "cond_cnt: 570 = 10 + 560\n",
      "Cross_ck: 10 = 10\n"
     ]
    }
   ],
   "source": [
    "reddit_posts, reddit_post_ids = fetch_reddit_test()\n",
    "condensed_reddit_data, unique_post_ids, unique_comment_ids = condense_data(reddit_posts, reddit_post_ids)"
   ]
  },
  {
   "cell_type": "code",
   "execution_count": 31,
   "id": "6d68feb5-a9f7-4f8e-993c-d0e0f6a49174",
   "metadata": {},
   "outputs": [
    {
     "name": "stdout",
     "output_type": "stream",
     "text": [
      "0 : 169\n",
      "1 : 108\n",
      "2 : 31\n",
      "3 : 57\n",
      "4 : 0\n",
      "5 : 33\n",
      "6 : 67\n",
      "7 : 60\n",
      "8 : 1\n",
      "9 : 34\n",
      "570 = 570 570\n"
     ]
    }
   ],
   "source": [
    "comment_dict = {}\n",
    "tot_data = 0\n",
    "for idx1, item in enumerate(condensed_reddit_data):\n",
    "    for idx2, data in enumerate(item):\n",
    "        tot_data += 1\n",
    "        c_id = data['comment_id']\n",
    "        p_id = data['parent_id']\n",
    "        text = data['text']\n",
    "        comment_dict[c_id] = {'comment_id': c_id, 'parent_id': p_id, 'text': text}\n",
    "    print(idx1, ':', idx2)\n",
    "comment_dict_list = list(comment_dict.keys())\n",
    "print(len(comment_dict), '=', tot_data, len(comment_dict_list) )"
   ]
  },
  {
   "cell_type": "code",
   "execution_count": 14,
   "id": "2fcfc9de-4739-424b-a986-4313587d75f4",
   "metadata": {},
   "outputs": [],
   "source": [
    "def get_data_details(comm_id):\n",
    "    done = 0\n",
    "    data_details = []\n",
    "    while done==0:\n",
    "        if comm_id in comment_dict:\n",
    "            details = comment_dict[comm_id]\n",
    "            data_details.append(details)\n",
    "            comm_id = details['parent_id']\n",
    "        else:\n",
    "            done = 1\n",
    "    return data_details"
   ]
  },
  {
   "cell_type": "code",
   "execution_count": null,
   "id": "64a36e7c-a913-4299-b5fb-8733457c8d6b",
   "metadata": {},
   "outputs": [
    {
     "name": "stdout",
     "output_type": "stream",
     "text": [
      "STARTING 0 - 0 - kgesxn\n",
      "\u001b[93m Pydantic validation error: 1 validation error for DecisionOutput\n",
      "comment_id\n",
      "  Field required [type=missing, input_value={'comment id': 'kgesxn', ...not design discussion.'}, input_type=dict]\n",
      "    For further information visit https://errors.pydantic.dev/2.8/v/missing. Attempting to handle partial JSON.\u001b[00m\n",
      "\u001b[93m Pydantic validation error: 1 validation error for DecisionOutput\n",
      "comment_id\n",
      "  Field required [type=missing, input_value={'comment id': 'kgesxn', ...not design discussion.'}, input_type=dict]\n",
      "    For further information visit https://errors.pydantic.dev/2.8/v/missing. The JSON structure doesn't match the expected model. Attempting alternative conversion method.\u001b[00m\n",
      "STARTING 0 - 1 - ggfdsvg\n",
      "\u001b[93m Error parsing JSON: Expecting value: line 1 column 1 (char 0). Attempting to handle partial JSON.\u001b[00m\n",
      "STARTING 0 - 2 - ggfh2zn\n",
      "STARTING 0 - 3 - ggepn0p\n",
      "STARTING 0 - 4 - ggfd5lx\n",
      "\u001b[93m Pydantic validation error: 1 validation error for DecisionOutput\n",
      "comment_id\n",
      "  Field required [type=missing, input_value={'comment id': 'ggfd5lx',...o question or request.'}, input_type=dict]\n",
      "    For further information visit https://errors.pydantic.dev/2.8/v/missing. Attempting to handle partial JSON.\u001b[00m\n",
      "\u001b[93m Pydantic validation error: 1 validation error for DecisionOutput\n",
      "comment_id\n",
      "  Field required [type=missing, input_value={'comment id': 'ggfd5lx',...o question or request.'}, input_type=dict]\n",
      "    For further information visit https://errors.pydantic.dev/2.8/v/missing. The JSON structure doesn't match the expected model. Attempting alternative conversion method.\u001b[00m\n",
      "STARTING 0 - 5 - ggewh8g\n",
      "STARTING 0 - 6 - ggffmc4\n",
      "\u001b[93m Error parsing JSON: Extra data: line 4 column 1 (char 124). Attempting to handle partial JSON.\u001b[00m\n",
      "STARTING 0 - 7 - ggfqz4a\n",
      "\u001b[93m Pydantic validation error: 1 validation error for DecisionOutput\n",
      "comment_id\n",
      "  Field required [type=missing, input_value={'comment id': ' ggfqz4a'...nt to interior design.'}, input_type=dict]\n",
      "    For further information visit https://errors.pydantic.dev/2.8/v/missing. Attempting to handle partial JSON.\u001b[00m\n",
      "\u001b[93m Pydantic validation error: 1 validation error for DecisionOutput\n",
      "comment_id\n",
      "  Field required [type=missing, input_value={'comment id': ' ggfqz4a'...nt to interior design.'}, input_type=dict]\n",
      "    For further information visit https://errors.pydantic.dev/2.8/v/missing. The JSON structure doesn't match the expected model. Attempting alternative conversion method.\u001b[00m\n",
      "STARTING 0 - 8 - ggf874w\n",
      "STARTING 0 - 9 - ggfb33x\n",
      "\u001b[93m Error parsing JSON: Extra data: line 4 column 1 (char 114). Attempting to handle partial JSON.\u001b[00m\n",
      "STARTING 0 - 10 - ggg0jqv\n",
      "STARTING 0 - 11 - ggflytk\n",
      "STARTING 0 - 12 - ggejb04\n",
      "STARTING 0 - 13 - ggfs2w1\n",
      "\u001b[93m Pydantic validation error: 1 validation error for DecisionOutput\n",
      "comment_id\n",
      "  Field required [type=missing, input_value={'comment id': 'ggfs2w1',...or request for advice.'}, input_type=dict]\n",
      "    For further information visit https://errors.pydantic.dev/2.8/v/missing. Attempting to handle partial JSON.\u001b[00m\n",
      "\u001b[93m Pydantic validation error: 1 validation error for DecisionOutput\n",
      "comment_id\n",
      "  Field required [type=missing, input_value={'comment id': 'ggfs2w1',...or request for advice.'}, input_type=dict]\n",
      "    For further information visit https://errors.pydantic.dev/2.8/v/missing. The JSON structure doesn't match the expected model. Attempting alternative conversion method.\u001b[00m\n"
     ]
    }
   ],
   "source": [
    "decision_lst = []\n",
    "for idx, reddit_data_item in enumerate(condensed_reddit_data):\n",
    "    comment_lst = []\n",
    "    for idx2, comment_data in enumerate(reddit_data_item):        \n",
    "        comm_id = comment_data['comment_id']  \n",
    "        comment_text = comment_data['text']\n",
    "        print(f'STARTING {idx} - {idx2} - {comm_id}')   \n",
    "        input_dict = {\"comment_id\": comm_id,\n",
    "                      \"input_data\": comment_text,\n",
    "                      \"product_long\": product_long,\n",
    "                      \"product_short\": product_short,\n",
    "                      \"domain\": domain,\n",
    "                      \"output_format\":output_format_1, \n",
    "                      \"tip_text\":tip_text}\n",
    "        decision_result = response_creation_crew.kickoff(inputs=input_dict)\n",
    "        try:\n",
    "            json_out = ast.literal_eval(decision_result.json)\n",
    "        except:\n",
    "            print('Exception in json - trying re')\n",
    "            _, d, j = re_string(decision_result.raw)            \n",
    "            json_out = {'comm_id': comm_id, 'decision': str(d), 'justification': str(j)}\n",
    "        comment_lst.append(json_out)\n",
    "    decision_lst.append(comment_lst)"
   ]
  },
  {
   "cell_type": "code",
   "execution_count": 46,
   "id": "ea8abcd3-366b-44bd-9079-b7d65241fee3",
   "metadata": {},
   "outputs": [
    {
     "data": {
      "text/plain": [
       "(10,\n",
       " 170,\n",
       " {'comment_id': 'kgesxn',\n",
       "  'decision': 'discard',\n",
       "  'justification': 'Sharing an accomplishment, not seeking advice.'})"
      ]
     },
     "execution_count": 46,
     "metadata": {},
     "output_type": "execute_result"
    }
   ],
   "source": [
    "len(decision_lst), len(decision_lst[0]), decision_lst[0][0]"
   ]
  },
  {
   "cell_type": "code",
   "execution_count": 47,
   "id": "e8a5b374-3025-459c-8036-4e71e9a4c8b9",
   "metadata": {},
   "outputs": [
    {
     "name": "stdout",
     "output_type": "stream",
     "text": [
      "Comment ID not found : str\n",
      "Comment ID not found : str\n",
      "Comment ID not found : ggggb0gv\n",
      "Comment ID not found : ggg8fu\n",
      "Comment ID not found : ggggp581\n",
      "Comment ID not found : ggggbtyv\n",
      "Comment ID not found : str\n",
      "Comment ID not found : ggy9lj\n",
      "Comment ID not found : gggglvit\n",
      "Comment ID not found : ggggx92\n",
      "Comment ID not found : gggmm3zh\n",
      "tot : 170, rel : 72, discarded : 98, bad_cnt : 11 analysis : 159\n",
      "tot : 109, rel : 60, discarded : 49, bad_cnt : 0 analysis : 268\n",
      "tot : 32, rel : 14, discarded : 18, bad_cnt : 0 analysis : 300\n",
      "decision key error : {'fxw7yxc': {'decision': 'relevant', 'justification': 'Asks for AI-generated interior design suggestions.'}}\n",
      "tot : 58, rel : 29, discarded : 28, bad_cnt : 1 analysis : 357\n",
      "tot : 1, rel : 0, discarded : 1, bad_cnt : 0 analysis : 358\n",
      "Comment ID not found : krct1qh\n",
      "Comment ID not found : krcylty\n",
      "tot : 34, rel : 20, discarded : 14, bad_cnt : 2 analysis : 390\n",
      "tot : 68, rel : 37, discarded : 31, bad_cnt : 0 analysis : 458\n",
      "tot : 61, rel : 29, discarded : 32, bad_cnt : 0 analysis : 519\n",
      "tot : 2, rel : 2, discarded : 0, bad_cnt : 0 analysis : 521\n",
      "Comment ID not found : gttezq\n",
      "Comment ID not found : gtvjbc1c\n",
      "tot : 35, rel : 14, discarded : 21, bad_cnt : 2 analysis : 554\n"
     ]
    }
   ],
   "source": [
    "analysis_lst = []\n",
    "bad_list = []\n",
    "for item in decision_lst:\n",
    "    tot = 0\n",
    "    rel = 0\n",
    "    disc = 0   \n",
    "    bad_cnt = 0\n",
    "    sep = \"^\"\n",
    "    for comment in item:\n",
    "        tot += 1\n",
    "        try:\n",
    "            if comment['decision'] == 'relevant':\n",
    "                rel += 1\n",
    "            else:\n",
    "                disc += 1\n",
    "            comm_key = list(comment.keys())[0]\n",
    "            comm_id  = comment[comm_key].strip()\n",
    "            if comm_id in comment_dict_list:\n",
    "                parent_id = comment_dict[comm_id][\"parent_id\"]\n",
    "                if parent_id is None:\n",
    "                    parent_id = 'NA'\n",
    "                decision = comment['decision']\n",
    "                justify  = comment[\"justification\"]\n",
    "                comment_text = comment_dict[comm_id][\"text\"]\n",
    "                text_str = sep + comm_id + sep + parent_id + sep + decision + sep + justify + sep + comment_text + sep\n",
    "                analysis_lst.append(text_str)           \n",
    "            else: \n",
    "                print(f'Comment ID not found : {comm_id}')\n",
    "                bad_cnt += 1\n",
    "                bad_list.append(comm_id)\n",
    "        except:\n",
    "            print(f'decision key error : {comment}')\n",
    "            bad_cnt += 1\n",
    "    print(f'tot : {tot}, rel : {rel}, discarded : {disc}, bad_cnt : {bad_cnt} analysis : {len(analysis_lst)}')"
   ]
  },
  {
   "cell_type": "code",
   "execution_count": 29,
   "id": "2ccecec0-00dc-47c6-9d55-ebfbcdae705e",
   "metadata": {},
   "outputs": [
    {
     "ename": "KeyError",
     "evalue": "'gggg8fu'",
     "output_type": "error",
     "traceback": [
      "\u001b[0;31m---------------------------------------------------------------------------\u001b[0m",
      "\u001b[0;31mKeyError\u001b[0m                                  Traceback (most recent call last)",
      "Cell \u001b[0;32mIn[29], line 1\u001b[0m\n\u001b[0;32m----> 1\u001b[0m \u001b[43mcomment_dict\u001b[49m\u001b[43m[\u001b[49m\u001b[38;5;124;43m'\u001b[39;49m\u001b[38;5;124;43mgggg8fu\u001b[39;49m\u001b[38;5;124;43m'\u001b[39;49m\u001b[43m]\u001b[49m\n",
      "\u001b[0;31mKeyError\u001b[0m: 'gggg8fu'"
     ]
    }
   ],
   "source": [
    "comment_dict['gggg8fu']"
   ]
  },
  {
   "cell_type": "code",
   "execution_count": 25,
   "id": "98f94ff4-c99f-458a-be26-824c3e6c12a4",
   "metadata": {},
   "outputs": [
    {
     "data": {
      "text/plain": [
       "'kgesxn'"
      ]
     },
     "execution_count": 25,
     "metadata": {},
     "output_type": "execute_result"
    }
   ],
   "source": [
    "comment_dict['ggfqz4a']['parent_id']"
   ]
  },
  {
   "cell_type": "code",
   "execution_count": 97,
   "id": "92ece0fc-7d78-42e4-9f8a-72fa4443b6d2",
   "metadata": {},
   "outputs": [
    {
     "name": "stdout",
     "output_type": "stream",
     "text": [
      "List has been written\n"
     ]
    }
   ],
   "source": [
    "with open('decision_result_v4_0820.txt', \"w\") as file:\n",
    "    # Iterate through the list and write each string to the file\n",
    "    for item in analysis_lst:\n",
    "        file.write(item + \"\\n\")  # Add a newline character after each string\n",
    "\n",
    "print(f\"List has been written\")"
   ]
  },
  {
   "cell_type": "code",
   "execution_count": 98,
   "id": "c9b1eec6-3073-4fc7-862a-a0c511d4976c",
   "metadata": {},
   "outputs": [
    {
     "name": "stdout",
     "output_type": "stream",
     "text": [
      "739\n"
     ]
    }
   ],
   "source": [
    "with open('decision_result_v4_0820.txt', \"r\") as file:\n",
    "    # Read all lines and strip the newline character from each line\n",
    "    analysis_lst_loaded_back = [line.strip() for line in file.readlines()]\n",
    "print(len(analysis_lst_loaded_back))"
   ]
  },
  {
   "cell_type": "code",
   "execution_count": 34,
   "id": "0108e21e-4fa6-42a9-a86e-a76a5d695db2",
   "metadata": {},
   "outputs": [],
   "source": [
    "# For each post-comment combo select the post-comments whose score >= 7"
   ]
  },
  {
   "cell_type": "code",
   "execution_count": null,
   "id": "2429b648-c1df-4476-86db-81973a07c6df",
   "metadata": {},
   "outputs": [],
   "source": [
    "# Then select a threshold like 20% or top 3 whichever is bigger of comments to craft response"
   ]
  },
  {
   "cell_type": "code",
   "execution_count": null,
   "id": "617f5dc2-690e-4048-bf91-4a067f985eb1",
   "metadata": {},
   "outputs": [],
   "source": [
    "# Build response for these comments With Manager LLM + only 1 response writer + meta reviewer"
   ]
  }
 ],
 "metadata": {
  "kernelspec": {
   "display_name": "Python 3 (ipykernel)",
   "language": "python",
   "name": "python3"
  },
  "language_info": {
   "codemirror_mode": {
    "name": "ipython",
    "version": 3
   },
   "file_extension": ".py",
   "mimetype": "text/x-python",
   "name": "python",
   "nbconvert_exporter": "python",
   "pygments_lexer": "ipython3",
   "version": "3.10.14"
  }
 },
 "nbformat": 4,
 "nbformat_minor": 5
}
