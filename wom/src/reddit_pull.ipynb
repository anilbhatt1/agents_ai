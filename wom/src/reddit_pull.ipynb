{
 "cells": [
  {
   "cell_type": "code",
   "execution_count": 2,
   "id": "4a11add4-6077-488c-b731-023321f0240e",
   "metadata": {},
   "outputs": [],
   "source": [
    "import os\n",
    "import re\n",
    "import yaml\n",
    "import json\n",
    "import ast\n",
    "import praw\n",
    "from pydantic import BaseModel"
   ]
  },
  {
   "cell_type": "code",
   "execution_count": null,
   "id": "03ffe706-b1f6-42c3-98ba-26ed917666f6",
   "metadata": {},
   "outputs": [],
   "source": [
    "api_file_path = 'api_keys.json'\n",
    "\n",
    "with open(api_file_path, 'r') as file:\n",
    "    api_data = json.load(file)  \n",
    "\n",
    "reddit = praw.Reddit(client_id=api_data['praw']['client_id'],\n",
    "                    client_secret=api_data['praw']['client_secret'],\n",
    "                    user_agent=api_data['praw']['user_agent'],\n",
    "                    username=api_data['praw']['username'],\n",
    "                    check_for_async=False) "
   ]
  },
  {
   "cell_type": "code",
   "execution_count": null,
   "id": "4c09387c-67be-4c64-836b-f8a0062ed288",
   "metadata": {},
   "outputs": [],
   "source": [
    "cfg_file_path = 'casaai_config.yaml'\n",
    "\n",
    "with open(cfg_file_path, 'r') as yaml_file:\n",
    "    cfg = yaml.safe_load(yaml_file)  \n",
    "\n",
    "gemini_generated_keywords = cfg.get('gemini_generated_keywords', [])\n",
    "user_provided_keywords = cfg.get('user_provided_keywords', [])\n",
    "broad_keywords = cfg.get('broad_keywords', [])"
   ]
  },
  {
   "cell_type": "code",
   "execution_count": null,
   "id": "9e6693e9-2569-4b60-9e20-cf5f932984a5",
   "metadata": {},
   "outputs": [],
   "source": [
    "def search_subreddits(keyword):\n",
    "    subreddits = []\n",
    "    for subreddit in reddit.subreddits.search_by_name(keyword, exact=False):\n",
    "        subreddits.append(subreddit.display_name)\n",
    "    return subreddits"
   ]
  },
  {
   "cell_type": "code",
   "execution_count": null,
   "id": "64638d3f-df94-431c-83b3-84b6a900a412",
   "metadata": {},
   "outputs": [],
   "source": [
    "def search_posts(subreddit_name, keyword):\n",
    "    posts = []\n",
    "    post_ids = []\n",
    "    subreddit = reddit.subreddit(subreddit_name)\n",
    "    for post in subreddit.search(keyword, limit=10):\n",
    "        post_data = {\n",
    "            'title': post.title,\n",
    "            \"comment_id\": post.id,\n",
    "            'url': post.url,\n",
    "            'score': post.score,\n",
    "            'num_comments': post.num_comments,\n",
    "            'Post_views': post.view_count,\n",
    "            'upvote_ratio': post.upvote_ratio,\n",
    "            'author': str(post.author),\n",
    "            'created_utc': post.created_utc,\n",
    "            'image_urls': [],\n",
    "            'comments': []\n",
    "        }\n",
    "\n",
    "        # Check for images in the post\n",
    "        if hasattr(post, 'url') and \\\n",
    "           ((post.url.endswith('.jpg') or post.url.endswith('.jpeg') or post.url.endswith('.png'))):\n",
    "            \n",
    "            post_data['image_urls'].append(post.url)\n",
    "        \n",
    "        elif hasattr(post, 'media_metadata'):\n",
    "            \n",
    "            for item_id in post.media_metadata:\n",
    "                media_item = post.media_metadata[item_id]\n",
    "                if 'm' in media_item and 'image' in media_item['m']:\n",
    "                    url = media_item.get('s', {}).get('u', None)\n",
    "                    if url:\n",
    "                        post_data['image_urls'].append(url)\n",
    "\n",
    "        # Fetching comments\n",
    "        post.comments.replace_more(limit=0)\n",
    "        for comment in post.comments.list():\n",
    "            comment_data = {\n",
    "                \"comment_id\": comment.id,\n",
    "                \"parent_id\": comment.parent_id.split('_')[1],\n",
    "                \"text\": comment.body,\n",
    "                \"author\": str(comment.author),\n",
    "                \"score\": comment.score,\n",
    "                \"created_utc\": comment.created_utc,\n",
    "                \"image_url\": \"\"\n",
    "            }\n",
    "\n",
    "            # Check for images in comments if applicable\n",
    "            if hasattr(comment, 'body_html') and 'img src=\"' in comment.body_html:\n",
    "                start_index = comment.body_html.find('img src=\"') + len('img src=\"')\n",
    "                end_index = comment.body_html.find('\"', start_index)\n",
    "                comment_data['image_url'] = comment.body_html[start_index:end_index]\n",
    "\n",
    "            post_data['comments'].append(comment_data)\n",
    "\n",
    "        posts.append(post_data)\n",
    "        post_ids.append(post.id)\n",
    "    \n",
    "    return posts, post_ids"
   ]
  },
  {
   "cell_type": "code",
   "execution_count": null,
   "id": "8b04613d-1632-4b4c-a0cc-20332c918f18",
   "metadata": {},
   "outputs": [],
   "source": [
    "def fetch_reddit():\n",
    "    \n",
    "    found_subreddits = [search_subreddits(keyword) for keyword in broad_keywords]\n",
    "\n",
    "    all_subreddits = []\n",
    "    for each in found_subreddits:\n",
    "        all_subreddits.extend(each)\n",
    "    all_subreddits = set(all_subreddits)    \n",
    "\n",
    "    reddit_posts = {}\n",
    "    reddit_post_ids = []\n",
    "\n",
    "    for subreddit_name in all_subreddits:\n",
    "        reddit_posts[subreddit_name] = {}\n",
    "        for keyword in gemini_generated_keywords:\n",
    "            posts, post_ids = search_posts(subreddit_name, keyword)    \n",
    "            reddit_posts[subreddit_name][keyword] = posts\n",
    "            reddit_post_ids.extend(post_ids)\n",
    "    \n",
    "    return reddit_posts, reddit_post_ids"
   ]
  },
  {
   "cell_type": "code",
   "execution_count": null,
   "id": "e5aa8fcf-def7-4a02-8509-5d0da76deb3f",
   "metadata": {},
   "outputs": [],
   "source": []
  }
 ],
 "metadata": {
  "kernelspec": {
   "display_name": "Python 3 (ipykernel)",
   "language": "python",
   "name": "python3"
  },
  "language_info": {
   "codemirror_mode": {
    "name": "ipython",
    "version": 3
   },
   "file_extension": ".py",
   "mimetype": "text/x-python",
   "name": "python",
   "nbconvert_exporter": "python",
   "pygments_lexer": "ipython3",
   "version": "3.10.14"
  }
 },
 "nbformat": 4,
 "nbformat_minor": 5
}
